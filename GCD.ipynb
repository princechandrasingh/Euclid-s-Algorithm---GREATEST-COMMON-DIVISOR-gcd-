{
 "cells": [
  {
   "cell_type": "markdown",
   "id": "721f6428",
   "metadata": {},
   "source": [
    "# GREATEST COMMON DIVISOR"
   ]
  },
  {
   "cell_type": "markdown",
   "id": "194a292b",
   "metadata": {},
   "source": [
    "# def gcd(m,n):\n",
    "    fm=[]\n",
    "    for i in range(1,m+1):\n",
    "        if (m%i)==0:\n",
    "            fm.append(i)\n",
    "    \n",
    "    fn=[]\n",
    "    for j in range(1,n+1):\n",
    "        if (n%j)==0:\n",
    "            fn.append(j)\n",
    "    cf=[]\n",
    "    for f in fm:\n",
    "        if f in fn:\n",
    "            cf.append(f)\n",
    "    return(cf[-1])\n",
    "        "
   ]
  },
  {
   "cell_type": "code",
   "execution_count": 14,
   "id": "a1b06cc0",
   "metadata": {},
   "outputs": [
    {
     "data": {
      "text/plain": [
       "4"
      ]
     },
     "execution_count": 14,
     "metadata": {},
     "output_type": "execute_result"
    }
   ],
   "source": [
    "gcd(12,8)"
   ]
  },
  {
   "cell_type": "code",
   "execution_count": 15,
   "id": "24f23862",
   "metadata": {},
   "outputs": [
    {
     "data": {
      "text/plain": [
       "25"
      ]
     },
     "execution_count": 15,
     "metadata": {},
     "output_type": "execute_result"
    }
   ],
   "source": [
    "gcd(25,625)"
   ]
  },
  {
   "cell_type": "code",
   "execution_count": 16,
   "id": "c62db905",
   "metadata": {},
   "outputs": [
    {
     "data": {
      "text/plain": [
       "7"
      ]
     },
     "execution_count": 16,
     "metadata": {},
     "output_type": "execute_result"
    }
   ],
   "source": [
    "gcd(14,63)"
   ]
  },
  {
   "cell_type": "markdown",
   "id": "60dfdb79",
   "metadata": {},
   "source": [
    "# MORE EFFICIENT METHOD"
   ]
  },
  {
   "cell_type": "code",
   "execution_count": 17,
   "id": "876db41e",
   "metadata": {},
   "outputs": [],
   "source": [
    "def gcd(m,n):\n",
    "    cf=[]\n",
    "    for i in range(1,min(m,n)+1):\n",
    "        if (m%i)==0 and (n%i)==0:\n",
    "            cf.append(i)\n",
    "    return(cf[-1])"
   ]
  },
  {
   "cell_type": "code",
   "execution_count": 18,
   "id": "fd1bf569",
   "metadata": {},
   "outputs": [
    {
     "data": {
      "text/plain": [
       "4"
      ]
     },
     "execution_count": 18,
     "metadata": {},
     "output_type": "execute_result"
    }
   ],
   "source": [
    "gcd(12,8)"
   ]
  },
  {
   "cell_type": "code",
   "execution_count": 22,
   "id": "34be2de4",
   "metadata": {},
   "outputs": [
    {
     "data": {
      "text/plain": [
       "6"
      ]
     },
     "execution_count": 22,
     "metadata": {},
     "output_type": "execute_result"
    }
   ],
   "source": [
    "gcd(7782,8292)"
   ]
  },
  {
   "cell_type": "code",
   "execution_count": 20,
   "id": "cbe831aa",
   "metadata": {},
   "outputs": [
    {
     "data": {
      "text/plain": [
       "9"
      ]
     },
     "execution_count": 20,
     "metadata": {},
     "output_type": "execute_result"
    }
   ],
   "source": [
    "gcd(91917, 918)"
   ]
  },
  {
   "cell_type": "markdown",
   "id": "f30f07d6",
   "metadata": {},
   "source": [
    "# Most efficent one to find gcd"
   ]
  },
  {
   "cell_type": "code",
   "execution_count": 23,
   "id": "caf36c6c",
   "metadata": {},
   "outputs": [],
   "source": [
    "def gcd(m,n):\n",
    "    for i in range(1,min(m,n)+1):\n",
    "        if (m%i)==0 and (n%i)==0:\n",
    "            mrcf=i\n",
    "    return(mrcf)\n"
   ]
  },
  {
   "cell_type": "code",
   "execution_count": 24,
   "id": "d1d289df",
   "metadata": {},
   "outputs": [
    {
     "data": {
      "text/plain": [
       "4"
      ]
     },
     "execution_count": 24,
     "metadata": {},
     "output_type": "execute_result"
    }
   ],
   "source": [
    "gcd(12,8)"
   ]
  },
  {
   "cell_type": "markdown",
   "id": "71f1331f",
   "metadata": {},
   "source": [
    "# Scanning backwards"
   ]
  },
  {
   "cell_type": "code",
   "execution_count": 15,
   "id": "23aea770",
   "metadata": {},
   "outputs": [],
   "source": [
    "def gcd(m,n):\n",
    "    i=min(m,n)\n",
    "    while i>0:\n",
    "        if (m%i)==0 and (n%i)==0:\n",
    "            return(i)\n",
    "        else:\n",
    "            i= i-1\n",
    "   "
   ]
  },
  {
   "cell_type": "code",
   "execution_count": 16,
   "id": "c3654a00",
   "metadata": {},
   "outputs": [
    {
     "data": {
      "text/plain": [
       "4"
      ]
     },
     "execution_count": 16,
     "metadata": {},
     "output_type": "execute_result"
    }
   ],
   "source": [
    "gcd(12,8)"
   ]
  },
  {
   "cell_type": "markdown",
   "id": "b585d6fe",
   "metadata": {},
   "source": [
    "# Euclids algorithm"
   ]
  },
  {
   "cell_type": "code",
   "execution_count": 7,
   "id": "091fb197",
   "metadata": {},
   "outputs": [],
   "source": [
    "def gcd(m,n):\n",
    "    if m<n:\n",
    "        (m,n)=(n,m)\n",
    "    if (m%n)==0:\n",
    "        return(n)\n",
    "    else:\n",
    "        diff=m-n\n",
    "        return(gcd(max(n,diff),min(n,diff)))"
   ]
  },
  {
   "cell_type": "code",
   "execution_count": 8,
   "id": "69a45b9d",
   "metadata": {},
   "outputs": [
    {
     "data": {
      "text/plain": [
       "6"
      ]
     },
     "execution_count": 8,
     "metadata": {},
     "output_type": "execute_result"
    }
   ],
   "source": [
    "gcd(12,6)"
   ]
  },
  {
   "cell_type": "code",
   "execution_count": 6,
   "id": "940180f5",
   "metadata": {},
   "outputs": [
    {
     "data": {
      "text/plain": [
       "4"
      ]
     },
     "execution_count": 6,
     "metadata": {},
     "output_type": "execute_result"
    }
   ],
   "source": [
    "gcd(12,8)"
   ]
  },
  {
   "cell_type": "markdown",
   "id": "99b9cfae",
   "metadata": {},
   "source": [
    "# Euclids algorithm Efficient"
   ]
  },
  {
   "cell_type": "code",
   "execution_count": 12,
   "id": "3590ebd1",
   "metadata": {},
   "outputs": [],
   "source": [
    "def gcd(m,n):\n",
    "    if m<n:\n",
    "        (m,n)=(n,m)\n",
    "    while(m%n)!=0:\n",
    "        diff=m-n\n",
    "        (m,n)=(max(n,diff),(min(n,diff)))\n",
    "    return(n)"
   ]
  },
  {
   "cell_type": "code",
   "execution_count": 13,
   "id": "a3c92f52",
   "metadata": {},
   "outputs": [
    {
     "data": {
      "text/plain": [
       "6"
      ]
     },
     "execution_count": 13,
     "metadata": {},
     "output_type": "execute_result"
    }
   ],
   "source": [
    "gcd(12,6)"
   ]
  },
  {
   "cell_type": "code",
   "execution_count": 14,
   "id": "60f5003c",
   "metadata": {},
   "outputs": [
    {
     "data": {
      "text/plain": [
       "4"
      ]
     },
     "execution_count": 14,
     "metadata": {},
     "output_type": "execute_result"
    }
   ],
   "source": [
    "gcd(12,8)"
   ]
  },
  {
   "cell_type": "code",
   "execution_count": 17,
   "id": "bec8e3ce",
   "metadata": {},
   "outputs": [
    {
     "data": {
      "text/plain": [
       "1"
      ]
     },
     "execution_count": 17,
     "metadata": {},
     "output_type": "execute_result"
    }
   ],
   "source": [
    "gcd(101,2)"
   ]
  },
  {
   "cell_type": "markdown",
   "id": "8d11e54a",
   "metadata": {},
   "source": [
    "# MOST EFFICIENT EUCLID ALGO USING IF CONDN"
   ]
  },
  {
   "cell_type": "code",
   "execution_count": 24,
   "id": "e12edb98",
   "metadata": {},
   "outputs": [],
   "source": [
    "def gcd(m,n): #earlier it has drwbck gcd(101,2)...gcd(99,2)..gcd(97,2)..gcd(5,2)..GCD(3,2)..gcd(1,2)\n",
    "    if m<n:\n",
    "        (m,n)=(n,m)\n",
    "    if(m%n)==0:\n",
    "        return(n)\n",
    "    else:\n",
    "        return(gcd(n,m%n))"
   ]
  },
  {
   "cell_type": "code",
   "execution_count": 19,
   "id": "2123c2d4",
   "metadata": {},
   "outputs": [
    {
     "data": {
      "text/plain": [
       "1"
      ]
     },
     "execution_count": 19,
     "metadata": {},
     "output_type": "execute_result"
    }
   ],
   "source": [
    "gcd(101,2)"
   ]
  },
  {
   "cell_type": "code",
   "execution_count": 20,
   "id": "740a65e4",
   "metadata": {},
   "outputs": [
    {
     "data": {
      "text/plain": [
       "4"
      ]
     },
     "execution_count": 20,
     "metadata": {},
     "output_type": "execute_result"
    }
   ],
   "source": [
    "gcd(12,8)"
   ]
  },
  {
   "cell_type": "markdown",
   "id": "cd5dca38",
   "metadata": {},
   "source": [
    "# MOST EFFICIENT EUCLID ALGO USING WHILE CONDN"
   ]
  },
  {
   "cell_type": "code",
   "execution_count": 26,
   "id": "e43a2275",
   "metadata": {},
   "outputs": [],
   "source": [
    "def gcd(m,n):\n",
    "    if m<n:\n",
    "        (m,n)=(n,m)\n",
    "    while(m%n)!=0: #while loop will reduce the time complexity\n",
    "        (m,n)=(n,m%n)# m%n is remainder which will always be less than n\n",
    "    return(n)"
   ]
  },
  {
   "cell_type": "code",
   "execution_count": 22,
   "id": "9563e2c3",
   "metadata": {},
   "outputs": [
    {
     "data": {
      "text/plain": [
       "1"
      ]
     },
     "execution_count": 22,
     "metadata": {},
     "output_type": "execute_result"
    }
   ],
   "source": [
    "gcd(101,2)"
   ]
  },
  {
   "cell_type": "code",
   "execution_count": 23,
   "id": "df9a3b27",
   "metadata": {},
   "outputs": [
    {
     "data": {
      "text/plain": [
       "4"
      ]
     },
     "execution_count": 23,
     "metadata": {},
     "output_type": "execute_result"
    }
   ],
   "source": [
    "gcd(12,8)"
   ]
  },
  {
   "cell_type": "code",
   "execution_count": null,
   "id": "7fa5c4bb",
   "metadata": {},
   "outputs": [],
   "source": []
  }
 ],
 "metadata": {
  "kernelspec": {
   "display_name": "Python 3 (ipykernel)",
   "language": "python",
   "name": "python3"
  },
  "language_info": {
   "codemirror_mode": {
    "name": "ipython",
    "version": 3
   },
   "file_extension": ".py",
   "mimetype": "text/x-python",
   "name": "python",
   "nbconvert_exporter": "python",
   "pygments_lexer": "ipython3",
   "version": "3.9.12"
  }
 },
 "nbformat": 4,
 "nbformat_minor": 5
}
